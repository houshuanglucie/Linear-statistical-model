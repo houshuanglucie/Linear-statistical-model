{
 "cells": [
  {
   "cell_type": "markdown",
   "metadata": {},
   "source": [
    "## EXERCICE 6 : PLS\n",
    "\n",
    "inspire de http://scikit-learn.org/stable/auto_examples/cross_decomposition/plot_compare_cross_decomposition.html\n"
   ]
  },
  {
   "cell_type": "code",
   "execution_count": 1,
   "metadata": {},
   "outputs": [],
   "source": [
    "import numpy as np\n",
    "import matplotlib.pyplot as plt\n",
    "from sklearn.cross_decomposition import PLSRegression\n"
   ]
  },
  {
   "cell_type": "markdown",
   "metadata": {},
   "source": [
    "### Partie 1 : regression PLS avec reponse univariee (PLS1)\n"
   ]
  },
  {
   "cell_type": "code",
   "execution_count": 2,
   "metadata": {},
   "outputs": [],
   "source": [
    "#Generation de donnees\n",
    "n = 1000\n",
    "p = 10\n",
    "X = np.random.normal(size=n * p).reshape((n, p))\n",
    "y = X[:, 0] + 2 * X[:, 1] + 0.5 * X[:, 2]*X[:, 3] + np.random.normal(size=n) + 5\n"
   ]
  },
  {
   "cell_type": "markdown",
   "metadata": {},
   "source": [
    "##### QUESTION 1: \n",
    "- Comment sont construites les donnees simulees ? \n",
    "- Que vous attendez-vous a voir dans la PLS\n"
   ]
  },
  {
   "cell_type": "code",
   "execution_count": 3,
   "metadata": {},
   "outputs": [
    {
     "data": {
      "text/plain": [
       "PLSRegression(copy=True, max_iter=500, n_components=5, scale=True, tol=1e-06)"
      ]
     },
     "execution_count": 3,
     "metadata": {},
     "output_type": "execute_result"
    }
   ],
   "source": [
    "\n",
    "pls1 = PLSRegression(n_components=5)\n",
    "pls1.fit(X, y)\n",
    "\n"
   ]
  },
  {
   "cell_type": "markdown",
   "metadata": {},
   "source": [
    "Les donnees sont principalement construites avec une relation lineaire entre X[:, 0:1] et Y. Il existe aussi un relation entre X[:, 2]*X[:, 3] et Y qui est moins forte. On s'attend alors a retrouver cette relation dans le 1er vecteur propre du projecteur de X.\n"
   ]
  },
  {
   "cell_type": "markdown",
   "metadata": {},
   "source": [
    "#####QUESTION 2 : \n",
    "- Quelle est la signification de pls1.x_rotations_. \n",
    "- Comment l'interpretez vous ?\n",
    "- Que renvoi de plus 'pls1.predict(X)' ? \n",
    "- Comparez ce resultat a y.\n"
   ]
  },
  {
   "cell_type": "code",
   "execution_count": 4,
   "metadata": {},
   "outputs": [
    {
     "data": {
      "image/png": "[encoded data removed]",
      "text/plain": [
       "<Figure size 432x288 with 1 Axes>"
      ]
     },
     "metadata": {
      "needs_background": "light"
     },
     "output_type": "display_data"
    }
   ],
   "source": [
    "\n",
    "plt.plot(pls1.x_rotations_[:,0],'r-')\n",
    "plt.plot(pls1.x_rotations_[:,1],'g--')\n",
    "plt.plot(pls1.x_rotations_[:,2],'b.')\n",
    "plt.show()\n"
   ]
  },
  {
   "cell_type": "markdown",
   "metadata": {},
   "source": [
    "On remarque que  pls1.x_rotations donne l'ensemble des vecteurs de projection de X vers un espace de dimension inferieur avec :\n",
    "- les vecteurs sont orthonormaux\n",
    "- Ils maximisent la covariance avec les projections de Y \n",
    "\n",
    "Vu que la dimension des observations de sortie y est 1 ici,  pls1.y_rotations_ represente un seul vecteur propre en dimension 1 array([1.]). Nous n'avons en effet pas besoin de projeter Y !\n",
    "\n",
    "\n",
    "pls1.predict(X) est la predicion de y à partir de X avec pls. On peut voir que la RMSE est faible compare a l'ecart type de Y :\n"
   ]
  },
  {
   "cell_type": "code",
   "execution_count": 5,
   "metadata": {},
   "outputs": [
    {
     "name": "stdout",
     "output_type": "stream",
     "text": [
      "RMSE:  1.0569224073508847\n",
      "std(y):  2.5836890654559395\n"
     ]
    }
   ],
   "source": [
    "\n",
    "RMSE=np.sqrt(np.mean(np.power(pls1.predict(X).reshape(-1)-y.reshape(-1),2.)))\n",
    "print('RMSE: ',RMSE)\n",
    "print('std(y): ',np.std(y))\n"
   ]
  },
  {
   "cell_type": "markdown",
   "metadata": {},
   "source": [
    "##### QUESTION 3: \n",
    "Est-ce qu'une regression lineaire multiple avec selection de modele conduirait a des resultats similaires ?\n",
    "\n"
   ]
  },
  {
   "cell_type": "markdown",
   "metadata": {},
   "source": [
    "Réponse : oui car l'essentiel de la relation entre X et Y est lineaire et de plus liee au deux premieres variables de X seulement\n"
   ]
  },
  {
   "cell_type": "markdown",
   "metadata": {},
   "source": [
    "\n",
    "\n",
    "\n",
    "### Partie 2 : regression PLS avec reponse multivariee (PLS2)\n"
   ]
  },
  {
   "cell_type": "code",
   "execution_count": 10,
   "metadata": {},
   "outputs": [
    {
     "data": {
      "text/plain": [
       "PLSRegression(copy=True, max_iter=500, n_components=5, scale=True, tol=1e-06)"
      ]
     },
     "execution_count": 10,
     "metadata": {},
     "output_type": "execute_result"
    }
   ],
   "source": [
    "q = 3\n",
    "p = 10\n",
    "X = np.random.normal(size=n * p).reshape((n, p))\n",
    "B = np.array([[1., 2.] + [0] * (p - 2)] * q)\n",
    "B[1,0]/=2.\n",
    "B[2,1]/=2.\n",
    "Y = np.dot(X, B.transpose()) + np.random.normal(size=n * q).reshape((n, q))/2\n",
    "\n",
    "n = 1000\n",
    "\n",
    "pls2 = PLSRegression(n_components=5)\n",
    "pls2.fit(X, Y)\n"
   ]
  },
  {
   "cell_type": "markdown",
   "metadata": {},
   "source": [
    "##### QUESTION 4: \n",
    "Comment sont construites les donnees simulees ? \n"
   ]
  },
  {
   "cell_type": "markdown",
   "metadata": {},
   "source": [
    "Réponse : La dimension des observations de sortie (dans Y) est 3 maintenant. Y depends des deux premieres variables de X  mais ses valeurs sur les dimensions 0, 1 et 2 sont liees a X suivant des relations legerement differentes \n"
   ]
  },
  {
   "cell_type": "markdown",
   "metadata": {},
   "source": [
    "##### QUESTION 5: \n",
    "- Predisez maintenant Y a l'aide de X. \n",
    "- Qu'observez vous.\n"
   ]
  },
  {
   "cell_type": "code",
   "execution_count": 11,
   "metadata": {},
   "outputs": [
    {
     "name": "stdout",
     "output_type": "stream",
     "text": [
      "RMSE:  0.4848130618383169\n",
      "std(Y):  1.9900748528139847\n"
     ]
    }
   ],
   "source": [
    "\n",
    "Ypred=pls2.predict(X)\n",
    "\n",
    "RMSE=np.sqrt(np.mean(np.power(Ypred[:,2]-Y[:,2],2.)))\n",
    "\n",
    "\n",
    "print('RMSE: ',RMSE)\n",
    "print('std(Y): ',np.std(Y))\n",
    "\n"
   ]
  },
  {
   "cell_type": "markdown",
   "metadata": {},
   "source": [
    "On a bien predit une matrice de la taille de Y qui l'estime bien. Notons que cette estimation serait bien moins bonne si le bruit simule sur Y etait plus grand.\n"
   ]
  },
  {
   "cell_type": "code",
   "execution_count": null,
   "metadata": {},
   "outputs": [],
   "source": []
  }
 ],
 "metadata": {
  "anaconda-cloud": {},
  "kernelspec": {
   "display_name": "Python 3",
   "language": "python",
   "name": "python3"
  },
  "language_info": {
   "codemirror_mode": {
    "name": "ipython",
    "version": 3
   },
   "file_extension": ".py",
   "mimetype": "text/x-python",
   "name": "python",
   "nbconvert_exporter": "python",
   "pygments_lexer": "ipython3",
   "version": "3.7.1"
  }
 },
 "nbformat": 4,
 "nbformat_minor": 4
}
