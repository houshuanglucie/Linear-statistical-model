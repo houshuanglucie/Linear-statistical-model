{
 "cells": [
  {
   "cell_type": "code",
   "execution_count": 1,
   "metadata": {},
   "outputs": [],
   "source": [
    "\n",
    "#exemple inspire de http://scikit-learn.org/stable/_downloads/plot_isotonic_regression.py\n",
    "\n",
    "import numpy as np\n",
    "import matplotlib.pyplot as plt\n",
    "\n",
    "from sklearn.linear_model import LinearRegression\n"
   ]
  },
  {
   "cell_type": "markdown",
   "metadata": {},
   "source": [
    "## PARTIE 1 : Utilisation de scikit-learn pour la regression lineaire\n"
   ]
  },
  {
   "cell_type": "code",
   "execution_count": 2,
   "metadata": {},
   "outputs": [
    {
     "data": {
      "image/png": "[encoded data removed]",
      "text/plain": [
       "<Figure size 432x288 with 1 Axes>"
      ]
     },
     "metadata": {
      "needs_background": "light"
     },
     "output_type": "display_data"
    }
   ],
   "source": [
    "#generation de donnees test\n",
    "n = 100\n",
    "x = np.arange(n)\n",
    "y = np.random.randn(n)*30 + 50. * np.log(1 + np.arange(n))\n",
    "\n",
    "# instanciation de sklearn.linear_model.LinearRegression\n",
    "lr = LinearRegression()\n",
    "lr.fit(x[:, np.newaxis], y)  # np.newaxis est utilise car x doit etre une matrice 2d avec 'LinearRegression'\n",
    "\n",
    "# representation du resultat\n",
    "fig = plt.figure()\n",
    "plt.plot(x, y, 'r.')\n",
    "plt.plot(x, lr.predict(x[:, np.newaxis]), 'b-')\n",
    "plt.legend(('Data', 'Linear Fit'), loc='lower right')\n",
    "plt.title('Linear regression')\n",
    "plt.show()\n"
   ]
  },
  {
   "cell_type": "markdown",
   "metadata": {},
   "source": [
    "#### QUESTION 1.1 : \n",
    "Bien comprendre le fonctionnement de lr, en particulier lr.fit et lr.predict\n",
    "\n",
    "#### Réponses :\n",
    "*lr est un objet qui permet d'effectuer la regression lineaire*\n",
    "\n",
    "*lr.fit permet d'apprendre les parametres du modele a partir de donnees d'apprentissage*\n",
    "\n",
    "*lr.predict permet de predire un 'y' partir d'un 'x' test*\n"
   ]
  },
  {
   "cell_type": "markdown",
   "metadata": {},
   "source": [
    "#### QUESTION 1.2 :\n",
    "On s'interesse a x=105. En supposant que le model lineaire soit toujours valide pour ce x, quelles valeur corresondante de y vous semble la plus vraisemblable ? \n",
    "\n",
    "#### Réponse :"
   ]
  },
  {
   "cell_type": "code",
   "execution_count": 3,
   "metadata": {},
   "outputs": [
    {
     "data": {
      "text/plain": [
       "array([261.80000303])"
      ]
     },
     "execution_count": 3,
     "metadata": {},
     "output_type": "execute_result"
    }
   ],
   "source": [
    "lr.predict([[105]])"
   ]
  },
  {
   "cell_type": "markdown",
   "metadata": {},
   "source": [
    "la valeur est 264.80754151\n",
    "\n",
    "On remarque que les valeurs donnees pour la prediction doivent etre dans un vecteur colonne, ici une matrice 1x1\n"
   ]
  },
  {
   "cell_type": "markdown",
   "metadata": {},
   "source": [
    "\n",
    "## PARTIE 2 : impact et detection d'outliers\n",
    "\n"
   ]
  },
  {
   "cell_type": "code",
   "execution_count": 4,
   "metadata": {},
   "outputs": [
    {
     "name": "stdout",
     "output_type": "stream",
     "text": [
      "b_0=10.614767578423201 et b_1=4.428987468311912\n"
     ]
    },
    {
     "data": {
      "image/png": "[encoded data removed]",
      "text/plain": [
       "<Figure size 432x288 with 1 Axes>"
      ]
     },
     "metadata": {
      "needs_background": "light"
     },
     "output_type": "display_data"
    }
   ],
   "source": [
    "\n",
    "\n",
    "#generation de donnees test\n",
    "n = 10\n",
    "x = np.arange(n)\n",
    "y = 10. + 4.*x + np.random.randn(n)*3. \n",
    "y[9]=y[9]+20\n",
    "\n",
    "# instanciation de sklearn.linear_model.LinearRegression\n",
    "lr = LinearRegression()\n",
    "lr.fit(x[:, np.newaxis], y)  # np.newaxis est utilise car x doit etre une matrice 2d avec 'LinearRegression'\n",
    "\n",
    "# representation du resultat\n",
    "\n",
    "print('b_0='+str(lr.intercept_)+' et b_1='+str(lr.coef_[0]))\n",
    "\n",
    "fig = plt.figure()\n",
    "plt.plot(x, y, 'r.')\n",
    "plt.plot(x, lr.predict(x[:, np.newaxis]), 'b-')\n",
    "plt.legend(('Data', 'Linear Fit'), loc='lower right')\n",
    "plt.title('Linear regression')\n",
    "plt.show()\n",
    "\n"
   ]
  },
  {
   "cell_type": "markdown",
   "metadata": {},
   "source": [
    "\n",
    "#### QUESTION 2.1 : \n",
    "\n",
    "La ligne 'y[9]=y[9]+20' genere artificiellement une donnee aberrante.\n",
    "\n",
    "Tester l'impact de la donnee aberrante en estimant b_0, b_1 et s^2 sur 5 jeux de donnees qui la contiennent cette donnee et 5 autres qui ne la contiennent pas (simplement ne pas executer la ligne y[9]=y[9]+20).\n",
    "\n",
    "On remarque que $\\beta_0 = 10$, $\\beta_1 = 4$ et $sigma=3$ dans les données simulees.\n"
   ]
  },
  {
   "cell_type": "code",
   "execution_count": 10,
   "metadata": {},
   "outputs": [
    {
     "name": "stdout",
     "output_type": "stream",
     "text": [
      "Les valeurs recherchees sont 10 et 4. Le bruit réel est 3.\n",
      "\n",
      "b_0=10.976385066545213 b_1=3.804857109554501\n",
      "Bruit estime=2.235692477744437\n",
      "\n",
      "b_0=8.030575998067906 b_1=4.404213106211886\n",
      "Bruit estime=1.9186754965837038\n",
      "\n",
      "b_0=10.12862739545843 b_1=3.7786107025502997\n",
      "Bruit estime=2.785356906814625\n",
      "\n",
      "b_0=8.503785595160092 b_1=4.067006589783584\n",
      "Bruit estime=3.3495908128566305\n",
      "\n",
      "b_0=11.224214512202593 b_1=3.657276860541601\n",
      "Bruit estime=3.3877824333155004\n",
      "\n"
     ]
    }
   ],
   "source": [
    "#sans donnee aberrante\n",
    "print('Les valeurs recherchees sont 10 et 4. Le bruit réel est 3.\\n')\n",
    "for i in range(5):\n",
    "  n = 10\n",
    "  x = np.arange(n)\n",
    "  y = 10. + 4.*x + np.random.randn(n)*3. \n",
    "  lr.fit(x[:, np.newaxis], y)  # np.newaxis est utilise car x doit etre une matrice 2d avec 'LinearRegression'\n",
    "  print('b_0='+str(lr.intercept_)+' b_1='+str(lr.coef_[0]))\n",
    "  s=np.std(y-lr.predict(x[:, np.newaxis]))\n",
    "  print('Bruit estime='+str(s)+'\\n')\n",
    "\n"
   ]
  },
  {
   "cell_type": "code",
   "execution_count": 11,
   "metadata": {},
   "outputs": [
    {
     "name": "stdout",
     "output_type": "stream",
     "text": [
      "Les valeurs recherchees sont 10 et 4. Le bruit réel est 3.\n",
      "\n",
      "b_0=7.271858911825596 b_1=5.4726818144126055\n",
      "Bruit estime=5.346698983074109\n",
      "\n",
      "b_0=5.021787033917342 b_1=5.285014733227297\n",
      "Bruit estime=6.220796831708812\n",
      "\n",
      "b_0=6.245763311082154 b_1=4.973447609664911\n",
      "Bruit estime=6.003948727924154\n",
      "\n",
      "b_0=6.573872442358372 b_1=5.093683232782923\n",
      "Bruit estime=5.332235518298807\n",
      "\n",
      "b_0=7.985232668459023 b_1=5.041023236734122\n",
      "Bruit estime=5.085300250680033\n",
      "\n"
     ]
    }
   ],
   "source": [
    "#avec donnee aberrante\n",
    "print('Les valeurs recherchees sont 10 et 4. Le bruit réel est 3.\\n')\n",
    "for i in range(5):\n",
    "  n = 10\n",
    "  x = np.arange(n)\n",
    "  y = 10. + 4.*x + np.random.randn(n)*3. \n",
    "  y[9]=y[9]+20\n",
    "  lr.fit(x[:, np.newaxis], y)  # np.newaxis est utilise car x doit etre une matrice 2d avec 'LinearRegression'\n",
    "  print('b_0='+str(lr.intercept_)+' b_1='+str(lr.coef_[0]))\n",
    "  s=np.std(y-lr.predict(x[:, np.newaxis]))\n",
    "  print('Bruit estime='+str(s)+'\\n')\n",
    "\n"
   ]
  },
  {
   "cell_type": "markdown",
   "metadata": {},
   "source": [
    "Estimations correctes sans donnee aberrante mais biaisees avec la donnee aberrante.\n",
    "\n",
    "On peut mesurer le biais en comparant la moyenne des parametres estimes aux vrais valeures des parametres sur un grand nombre de repetitions\n"
   ]
  },
  {
   "cell_type": "markdown",
   "metadata": {},
   "source": [
    "#### QUESTION 2.2 : \n",
    "##### 2.2.a : \n",
    "Pour chaque variable i, calculez les profils des résidus $e_{(i)j}=y_j - \\hat{y_{(i)j}}$ pour tous les j, ou  \\hat{y_{(i)j}} est l'estimation de y_j a partir d'un modele  lineaire appris sans l'observation i.\n",
    "##### 2.2.b : \n",
    "En quoi le profil des e_{(i)j} est different pour i=9 que pour les autre i\n",
    "##### 2.2.c : \n",
    "Etendre ces calculs pour définir la distance de Cook de chaque variable i\n",
    "\n",
    "AIDE : pour enlever un element 'i' de 'x' ou 'y', utiliser x_del_i=np.delete(x,i) et y_del_i=np.delete(y,i) \n"
   ]
  },
  {
   "cell_type": "code",
   "execution_count": 14,
   "metadata": {},
   "outputs": [],
   "source": [
    "#-> regeneration de donnees biaisees \n",
    "n = 10\n",
    "x = np.arange(n)\n",
    "y = 10. + 4.*x + np.random.randn(n)*3. \n",
    "y[9]=y[9]+20\n",
    "\n"
   ]
  },
  {
   "cell_type": "markdown",
   "metadata": {},
   "source": [
    "##### Réponse 2.2.a"
   ]
  },
  {
   "cell_type": "code",
   "execution_count": 15,
   "metadata": {},
   "outputs": [
    {
     "name": "stdout",
     "output_type": "stream",
     "text": [
      "variable supprimee=0\n",
      "residus =[ 4.43715534  6.16807499  0.53296861  2.30384262 -1.58296907 -9.41566144\n",
      "  1.31935752 -8.68327842 -7.91246052 17.2701257 ]\n",
      "variable supprimee=1\n",
      "residus =[ 4.79229386  6.48991062  0.82150136  2.55907247 -1.3610421  -9.22703736\n",
      "  1.47467872 -8.56126011 -7.82374509 17.32553824]\n",
      "variable supprimee=2\n",
      "residus =[ 2.75640274  4.74831277 -0.62580321  1.40606118 -2.21976012 -9.79146211\n",
      "  1.20454725 -8.5370983  -7.50529001 17.9382866 ]\n",
      "variable supprimee=3\n",
      "residus =[ 3.21621301  5.15796999 -0.26629904  1.7154123  -1.96056204 -9.58241708\n",
      "  1.36343923 -8.42835937 -7.44670413 17.94671943]\n",
      "variable supprimee=4\n",
      "residus =[ 2.59957894  4.58703671 -0.79153154  1.2358806  -2.39439296 -9.97054721\n",
      "  1.02100989 -8.72508793 -7.6977319  17.74139245]\n",
      "variable supprimee=5\n",
      "residus =[  2.11472281   4.02186935  -1.43701012   0.51009079  -3.200494\n",
      " -10.85695948   0.05428639  -9.77212265  -8.82507785  16.53373528]\n",
      "variable supprimee=6\n",
      "residus =[ 2.93012574  4.92887791 -0.43839594  1.6003106  -2.01866856 -9.5835284\n",
      "  1.41932309 -8.31548032 -7.27682989 18.17358886]\n",
      "variable supprimee=7\n",
      "residus =[  3.28028724   4.93992739  -0.76645848   0.93313603  -3.02495515\n",
      " -10.92892703  -0.26518755 -10.33910299  -9.63956459  15.47174214]\n",
      "variable supprimee=8\n",
      "residus =[  3.81267665   5.36172311  -0.45525644   1.13374439  -2.93494048\n",
      " -10.94950603  -0.39636024 -10.58086936  -9.99192464  15.00878841]\n",
      "variable supprimee=9\n",
      "residus =[-1.07690905  2.38899809 -1.51112079  1.99474072 -0.15708347 -6.25478835\n",
      "  6.21521812 -2.05243033  0.45337507 27.37094879]\n"
     ]
    }
   ],
   "source": [
    "for i in range(n):\n",
    "  x_del_i=np.delete(x,i)\n",
    "  y_del_i=np.delete(y,i) \n",
    "  \n",
    "  lr.fit(x_del_i[:, np.newaxis], y_del_i)\n",
    "  \n",
    "  print('variable supprimee='+str(i))\n",
    "  print('residus ='+str(y-lr.predict(x[:, np.newaxis])))\n"
   ]
  },
  {
   "cell_type": "markdown",
   "metadata": {},
   "source": [
    "##### Réponse 2.2.b\n",
    "L'estimation de j=9 est toujours la plus mauvaise. Elle est plus mauvaise quand i=9 enleve de l'apprentissage que pour tous les autres i est, alors que toutes les  autres predictions sont meilleures.\n",
    "\n",
    "... on peut clairement se douter que cette observation est un outlier (donnee aberrante). \n"
   ]
  },
  {
   "cell_type": "markdown",
   "metadata": {},
   "source": [
    "##### Réponse 2.2.c"
   ]
  },
  {
   "cell_type": "code",
   "execution_count": 16,
   "metadata": {},
   "outputs": [
    {
     "name": "stdout",
     "output_type": "stream",
     "text": [
      "D(0)=0.046450822500104405\n",
      "D(1)=0.07147770067834831\n",
      "D(2)=0.0004700920027703967\n",
      "D(3)=0.0025577943395561544\n",
      "D(4)=0.004034122315141881\n",
      "D(5)=0.08294202625415215\n",
      "D(6)=0.0017510200497534315\n",
      "D(7)=0.12831369372794757\n",
      "D(8)=0.16943044133757362\n",
      "D(9)=1.7675180024662605\n"
     ]
    }
   ],
   "source": [
    "lr.fit(x[:, np.newaxis], y)  # np.newaxis est utilise car x doit etre une matrice 2d avec 'LinearRegression'\n",
    "y_pred=lr.predict(x[:, np.newaxis])\n",
    "\n",
    "s2=np.sum((y-y_pred)*(y-y_pred))/(n-2)\n",
    "\n",
    "\n",
    "\n",
    "\n",
    "for i in range(n):\n",
    "  x_del_i=np.delete(x,i)\n",
    "  y_del_i=np.delete(y,i) \n",
    "  \n",
    "  lr.fit(x_del_i[:, np.newaxis], y_del_i)\n",
    "  sum_squared_error=np.sum((y_pred-lr.predict(x[:, np.newaxis]))*(y_pred-lr.predict(x[:, np.newaxis])))\n",
    "  \n",
    "  print('D('+str(i)+')='+str(sum_squared_error/(2.*s2)))\n"
   ]
  },
  {
   "cell_type": "markdown",
   "metadata": {},
   "source": [
    "La distance est clairement plus grande pour la valeur 9 que toutes les autres, qui sont stable. La donnee aberrante est encore retrouvee.\n"
   ]
  },
  {
   "cell_type": "markdown",
   "metadata": {},
   "source": [
    "## PARTIE 3 : Vers la regression lineaire multiple et optimisation\n",
    "\n",
    "On considere que l'on connait les notes moyennes sur l'annee de n eleves dans p matieres, ainsi que leur note a un concours en fin d'annee. On  se demande si on ne pourrait pas predire la note des etudiants au concours en fonction de leur moyenne annuelle afin d'estimer leurs chances au concours.\n",
    "\n",
    "\n",
    "On va resoudre le probleme a l'aide de la regression lineaire en dimension p>1 sans utiliser scikit-learn. \n",
    "\n"
   ]
  },
  {
   "cell_type": "markdown",
   "metadata": {},
   "source": [
    "##### Question 1 :\n",
    "A l'aide de la fonction 'SimulateObservations', simulez un jeu de donnees d'apprentissage [X_l,y_l] avec 30 observations et un jeu de test [X_t,y_t] avec 10 observations. Les observations seront en dimension p=10\n",
    "\n",
    "##### Réponse :"
   ]
  },
  {
   "cell_type": "code",
   "execution_count": 17,
   "metadata": {},
   "outputs": [
    {
     "name": "stdout",
     "output_type": "stream",
     "text": [
      "The thetas with which the values were simulated is: [2.86114352e-01 1.56173766e-05 1.25258438e-01 1.12742561e-04\n",
      " 2.18916917e-02 2.45312639e-01 6.80206482e-02 1.15628753e-01\n",
      " 2.07533636e-03 1.35569781e-01]\n"
     ]
    }
   ],
   "source": [
    "\n",
    "\n",
    "def SimulateObservations(n_train,n_test,p):\n",
    "  \"\"\"\n",
    "  n_train: number of training obserations to simulate\n",
    "  n_test: number of test obserations to simulate\n",
    "  p: dimension of the observations to simulate\n",
    "  \"\"\"\n",
    "  \n",
    "  ObsX_train=20.*np.random.rand(n_train,p)\n",
    "  ObsX_tst=20.*np.random.rand(n_test,p)\n",
    "  \n",
    "  RefTheta=np.random.rand(p)**3\n",
    "  RefTheta=RefTheta/RefTheta.sum()\n",
    "  print(\"The thetas with which the values were simulated is: \"+str(RefTheta))\n",
    "  \n",
    "  ObsY_train=np.dot(ObsX_train,RefTheta.reshape(p,1))+1.5*np.random.randn(n_train,1)\n",
    "  ObsY_tst=np.dot(ObsX_tst,RefTheta.reshape(p,1))+1.5*np.random.randn(n_test,1)\n",
    "  \n",
    "  return [ObsX_train,ObsY_train,ObsX_tst,ObsY_tst,RefTheta]\n",
    "\n",
    "p=10\n",
    "\n",
    "[ObsX_train,ObsY_train,ObsX_tst,ObsY_tst,RefTheta]=SimulateObservations(30,10,p)\n"
   ]
  },
  {
   "cell_type": "markdown",
   "metadata": {},
   "source": [
    "##### Question 2 :\n",
    "On considere un modele lineaire en dimension p>1 mettre en lien les x[i,:] et les y[i], c'est a dire que np.dot(x[i,:],theta_optimal) doit etre le plus proche possible de y[i] sur l'ensemble des observations i. Dans le modele lineaire multiple, theta_optimal est un vecteur de taille [p,1] qui pondere les differentes variables observees (ici les moyennes dans une matiere). Coder alors une fonction qui calcule la moyenne des differences au carre entre ces valeurs en fonction de theta.\n",
    "\n",
    "##### Réponse :"
   ]
  },
  {
   "cell_type": "code",
   "execution_count": 20,
   "metadata": {},
   "outputs": [],
   "source": [
    "\n",
    "def CptMSE(X,y_true,theta_test):\n",
    "  y_pred=np.dot(X,theta_test)[:, np.newaxis]\n",
    "  #print(y_pred.shape)\n",
    "  #print(y_true.shape)\n",
    "  MSE=np.mean(np.power(y_pred-y_true,2.))\n",
    "  \n",
    "  return MSE\n",
    "\n",
    "\n",
    "theta_test=np.abs(np.random.randn(p))\n",
    "\n",
    "MSE_test=CptMSE(ObsX_train,ObsY_train,theta_test)\n"
   ]
  },
  {
   "cell_type": "markdown",
   "metadata": {},
   "source": [
    "##### Question 3 -- option 1 :\n",
    "On va maintenant chercher le theta_test qui minimise cette fonction (il correspondra a theta_optimal), et ainsi résoudre le probleme d'apprentissage de regression lineaire multiple. Utiliser pour cela la fonction minimize de scipy.optimize\n",
    "\n",
    "##### Réponse :\n"
   ]
  },
  {
   "cell_type": "code",
   "execution_count": 23,
   "metadata": {},
   "outputs": [
    {
     "name": "stdout",
     "output_type": "stream",
     "text": [
      "Optimization terminated successfully.\n",
      "         Current function value: 1.231751\n",
      "         Iterations: 18\n",
      "         Function evaluations: 1346\n",
      "Optimal theta found=[ 0.27615826  0.02617968 -0.0041731   0.03132831  0.0234688   0.24372727\n",
      "  0.15684624  0.06361828 -0.02023879  0.18222637]\n",
      "\n",
      "Results assessment on the training set:\n",
      "MSE=4501.41974118281 with theta init\n",
      "MSE=1.2317511617778965 with the final theta\n",
      "MSE=1.830616818912318 with the reference theta\n",
      "\n",
      "Results assessment on the test set:\n",
      "MSE=5216.484615522512 with theta init\n",
      "MSE=2.677612614800815 with the final theta\n",
      "MSE=2.3275309862981333 with the reference theta\n"
     ]
    }
   ],
   "source": [
    "\n",
    "global X\n",
    "global y_true\n",
    "\n",
    "def CptMyPbSpecificMSE(theta_test):\n",
    "  \"\"\"\n",
    "  fonction optimisee par minimize\n",
    "  \"\"\"\n",
    "  global X\n",
    "  global y_true\n",
    "  \n",
    "  MSE_test=CptMSE(ObsX_train,ObsY_train,theta_test)\n",
    "  \n",
    "  return MSE_test\n",
    "\n",
    "\n",
    "from scipy.optimize import minimize\n",
    "\n",
    "theta_init=np.abs(np.random.randn(p))/10.\n",
    "\n",
    "\n",
    "res = minimize(CptMyPbSpecificMSE, theta_init, method='Powell',options={'xtol': 10, 'disp': True})\n",
    "\n",
    "print(\"Optimal theta found=\"+str(res.x))\n",
    "\n",
    "\n",
    "#) ... validate the results\n",
    "\n",
    "print('\\nResults assessment on the training set:')\n",
    "\n",
    "MSE_init=CptMSE(ObsX_train,ObsY_train,theta_test)\n",
    "print(\"MSE=\"+str(MSE_init)+\" with theta init\")\n",
    "\n",
    "\n",
    "MSE_final=CptMSE(ObsX_train,ObsY_train,res.x)\n",
    "print(\"MSE=\"+str(MSE_final)+\" with the final theta\")\n",
    "\n",
    "\n",
    "MSE_ref=CptMSE(ObsX_train,ObsY_train,RefTheta)\n",
    "print(\"MSE=\"+str(MSE_ref)+\" with the reference theta\")\n",
    "\n",
    "\n",
    "\n",
    "\n",
    "print('\\nResults assessment on the test set:')\n",
    "\n",
    "MSE_init=CptMSE(ObsX_tst,ObsY_tst,theta_test)\n",
    "print(\"MSE=\"+str(MSE_init)+\" with theta init\")\n",
    "\n",
    "\n",
    "MSE_final=CptMSE(ObsX_tst,ObsY_tst,res.x)\n",
    "print(\"MSE=\"+str(MSE_final)+\" with the final theta\")\n",
    "\n",
    "\n",
    "MSE_ref=CptMSE(ObsX_tst,ObsY_tst,RefTheta)\n",
    "print(\"MSE=\"+str(MSE_ref)+\" with the reference theta\")\n",
    "\n",
    "\n"
   ]
  },
  {
   "cell_type": "markdown",
   "metadata": {},
   "source": [
    "Il est interessant de remarquer qu'on a sur-appris : meilleur resultat avec 'MSE_final' que 'MSE_ref' sur 'training set'    /    meilleur resultat avec 'MSE_ref' que 'MSE_final' sur 'test set'\n"
   ]
  },
  {
   "cell_type": "markdown",
   "metadata": {},
   "source": [
    "##### Question 3 -- option 2 :\n",
    "\n",
    "De maniere alternative, le probleme peut etre resolu a l'aide d'une methode de descente de gradient codee a la main, dans laquelle les gradients seront calcules par differences finies.\n",
    "\n",
    "##### Réponse :"
   ]
  },
  {
   "cell_type": "code",
   "execution_count": 24,
   "metadata": {},
   "outputs": [
    {
     "name": "stdout",
     "output_type": "stream",
     "text": [
      "3.1957086934481795\n",
      "3.066360628371413\n",
      "2.9515695664170893\n",
      "2.84692327907218\n",
      "2.7506222472154525\n",
      "2.661644640915621\n",
      "2.579213912365548\n",
      "2.502689715193108\n",
      "2.431515116697568\n",
      "2.365203858093742\n",
      "2.303326452119886\n",
      "2.245503114700385\n",
      "2.191396225599236\n",
      "2.1407049004033003\n",
      "2.093159949584004\n",
      "2.0485198166748506\n",
      "2.0065670072276522\n",
      "1.9671050947050326\n",
      "1.9299561313363789\n",
      "1.894958441469891\n",
      "1.8619647182578294\n",
      "1.8308403872245573\n",
      "1.8014621912145143\n",
      "1.7737169658535161\n",
      "1.7475005758771225\n",
      "1.7227169891827403\n",
      "1.699277468172816\n",
      "1.677099861595876\n",
      "1.656107982467722\n",
      "1.636231059974473\n",
      "1.6174032550640034\n",
      "1.5995632310051775\n",
      "1.5826537714939273\n",
      "1.5666214400029799\n",
      "1.551416274989918\n",
      "1.5369915163684051\n",
      "1.5233033593137708\n",
      "1.5103107320309868\n",
      "1.4979750945927357\n",
      "1.4862602563561595\n",
      "1.475132209809226\n",
      "1.4645589789910092\n",
      "1.454510480874641\n",
      "1.444958398318371\n",
      "1.4358760633656897\n",
      "1.427238349832166\n",
      "1.4190215742504904\n",
      "1.41120340435687\n",
      "1.4037627744010774\n",
      "1.3966798066459336\n",
      "1.389935738497596\n",
      "1.3835128547661883\n",
      "1.3773944246160492\n",
      "1.3715646428110053\n",
      "1.3660085748991528\n",
      "1.3607121060224965\n",
      "1.3556618930634339\n",
      "1.3508453198738237\n",
      "1.3462504553511963\n",
      "1.3418660141525878\n",
      "1.3376813198537587\n",
      "1.3336862703795853\n",
      "1.3298713055452889\n",
      "1.3262273765635817\n",
      "1.3227459173837497\n",
      "1.319418817738234\n",
      "1.316238397786807\n",
      "1.3131973842510667\n",
      "1.3102888879444712\n",
      "1.3075063826089404\n",
      "1.3048436849744798\n",
      "1.3022949359667122\n",
      "1.2998545829903223\n",
      "1.2975173632228507\n",
      "1.2952782878569196\n",
      "1.2931326272335437\n",
      "1.2910758968139093\n",
      "1.2891038439390818\n",
      "1.2872124353300685\n",
      "1.285397845286767\n",
      "1.2836564445431848\n",
      "1.2819847897412495\n",
      "1.2803796134872043\n",
      "1.2788378149578192\n",
      "1.2773564510233397\n",
      "1.2759327278591106\n",
      "1.2745639930171637\n",
      "1.2732477279316448\n",
      "1.2719815408340263\n",
      "1.2707631600546783\n",
      "1.2695904276887624\n",
      "1.2684612936069959\n",
      "1.2673738097905505\n",
      "1.266326124973589\n",
      "1.265316479574718\n",
      "1.264343200902579\n",
      "1.2634046986203242\n",
      "1.2624994604532183\n",
      "1.2616260481278274\n",
      "1.2607830935289015\n"
     ]
    },
    {
     "data": {
      "image/png": "[encoded data removed]",
      "text/plain": [
       "<Figure size 432x288 with 1 Axes>"
      ]
     },
     "metadata": {
      "needs_background": "light"
     },
     "output_type": "display_data"
    },
    {
     "data": {
      "image/png": "[encoded data removed]",
      "text/plain": [
       "<Figure size 432x288 with 1 Axes>"
      ]
     },
     "metadata": {
      "needs_background": "light"
     },
     "output_type": "display_data"
    }
   ],
   "source": [
    "\n",
    "\n",
    "def gradientApprox(fct_to_minimize,theta_loc,X_loc,Y_loc,epsilon=1e-5):\n",
    "  \n",
    "  fx=fct_to_minimize(X_loc,Y_loc,theta_loc)\n",
    "  print(fx)\n",
    "  ApproxGrad=np.zeros(np.size(theta_loc))\n",
    "  veps=np.zeros(np.size(theta_loc))\n",
    "  \n",
    "  for i in range(np.size(theta_loc)):\n",
    "    veps[:]=0.\n",
    "    veps[i]+=epsilon\n",
    "    ApproxGrad[i]=(fct_to_minimize(X_loc,Y_loc,theta_loc+veps)-fx)/epsilon\n",
    "  return ApproxGrad\n",
    "\n",
    "\n",
    "def GradientDescent(fct_to_minimize,theta_init,X_loc,Y_loc,alpha=0.01,N=100):\n",
    "  \"\"\"\n",
    "  Remark: the multiplicatory coefficient of the gradients will be \"alpha\" divided by the norm of the first gradient \n",
    "  \"\"\"\n",
    "  \n",
    "  #init\n",
    "  l_thetas=[theta_init]\n",
    "  theta_curr=theta_init.copy()\n",
    "\n",
    "  #run the gradient descent\n",
    "  n=0\n",
    "  while n<N:\n",
    "    #approximate the gradient of fct_to_minimize w.r.t. theta_curr\n",
    "    g=gradientApprox(fct_to_minimize,theta_curr,X_loc,Y_loc)\n",
    "    \n",
    "    #set the multiplicatory coefficient of the gradients\n",
    "    if n==0:\n",
    "      NormFirstGrads=np.linalg.norm(g)\n",
    "      coefMult=alpha/NormFirstGrads\n",
    "      \n",
    "    #update theta\n",
    "    theta_curr=theta_curr-coefMult*g\n",
    "    \n",
    "    #save the current state and increment n\n",
    "    l_thetas.append(theta_curr)\n",
    "    n+=1\n",
    "\n",
    "  return l_thetas\n",
    "\n",
    "\n",
    "theta_init=np.ones(p)/p\n",
    "\n",
    "\n",
    "l_thetas=GradientDescent(CptMSE,theta_init,ObsX_train,ObsY_train)\n",
    "\n",
    "\n",
    "convergence_curve=[]\n",
    "for i in range(len(l_thetas)):\n",
    "  convergence_curve.append(np.linalg.norm(l_thetas[i]-RefTheta))\n",
    "\n",
    "\n",
    "plt.plot(np.array(convergence_curve))\n",
    "plt.show()\n",
    "\n",
    "convergence_MSE_train=[]\n",
    "for i in range(len(l_thetas)):\n",
    "  convergence_MSE_train.append(CptMSE(ObsX_train,ObsY_train,l_thetas[i]))\n",
    "\n",
    "plt.plot(np.array(convergence_MSE_train))\n",
    "plt.title('Convergence of the MSE on the training set (value with the ref. theta='+str(CptMSE(ObsX_train,ObsY_train,RefTheta))+')')\n",
    "plt.show()\n",
    "\n"
   ]
  },
  {
   "cell_type": "code",
   "execution_count": 25,
   "metadata": {},
   "outputs": [
    {
     "name": "stdout",
     "output_type": "stream",
     "text": [
      "\n",
      "Results assessment on the training set:\n",
      "MSE=4501.41974118281 with theta init\n",
      "MSE=1.2599692950621775 with the final theta\n",
      "MSE=1.830616818912318 with the reference theta\n",
      "\n",
      "Results assessment on the test set:\n",
      "MSE=5216.484615522512 with theta init\n",
      "MSE=2.640473855948861 with the final theta\n",
      "MSE=2.3275309862981333 with the reference theta\n"
     ]
    }
   ],
   "source": [
    "#) ... validate the results\n",
    "\n",
    "\n",
    "print('\\nResults assessment on the training set:')\n",
    "\n",
    "MSE_init=CptMSE(ObsX_train,ObsY_train,theta_test)\n",
    "print(\"MSE=\"+str(MSE_init)+\" with theta init\")\n",
    "\n",
    "\n",
    "MSE_final=CptMSE(ObsX_train,ObsY_train,l_thetas[-1])\n",
    "print(\"MSE=\"+str(MSE_final)+\" with the final theta\")\n",
    "\n",
    "\n",
    "MSE_ref=CptMSE(ObsX_train,ObsY_train,RefTheta)\n",
    "print(\"MSE=\"+str(MSE_ref)+\" with the reference theta\")\n",
    "\n",
    "\n",
    "\n",
    "\n",
    "print('\\nResults assessment on the test set:')\n",
    "\n",
    "MSE_init=CptMSE(ObsX_tst,ObsY_tst,theta_test)\n",
    "print(\"MSE=\"+str(MSE_init)+\" with theta init\")\n",
    "\n",
    "\n",
    "MSE_final=CptMSE(ObsX_tst,ObsY_tst,l_thetas[-1])\n",
    "print(\"MSE=\"+str(MSE_final)+\" with the final theta\")\n",
    "\n",
    "\n",
    "MSE_ref=CptMSE(ObsX_tst,ObsY_tst,RefTheta)\n",
    "print(\"MSE=\"+str(MSE_ref)+\" with the reference theta\")\n",
    "\n",
    "\n"
   ]
  },
  {
   "cell_type": "markdown",
   "metadata": {},
   "source": [
    "Il est interessant de remarquer qu'on a sur-appris : meilleur resultat avec 'MSE_final' que 'MSE_ref' sur 'training set'    /    meilleur resultat avec 'MSE_ref' que 'MSE_final' sur 'test set'\n"
   ]
  },
  {
   "cell_type": "markdown",
   "metadata": {},
   "source": [
    "\n",
    "## PARTIE 4 : maximum de vraisemblance\n",
    "\n",
    "- Tirer 10 fois une piece a pile ou face et modeliser les resultats obtenus comme ceux d'une variable aleatoire X qui vaut X_i=0 si on a pile et X_i=1 si on a face.\n",
    "- Calculer le maximum de vraisemblance du parametre p d'un loi de Bernoulli qui modeliserait le probleme.\n",
    "- Vérifier empiriquement comment évolue ce maximum de vraisemblance si l'on effectue de plus en plus de tirages\n",
    "- Que se passe-t-il quand il y a trop de tirages ? Représenter la log-vraisemblance plutot que la vraisemblance dans ce cas.\n",
    "\n"
   ]
  },
  {
   "cell_type": "code",
   "execution_count": 26,
   "metadata": {},
   "outputs": [
    {
     "data": {
      "image/png": "[encoded data removed]",
      "text/plain": [
       "<Figure size 432x288 with 1 Axes>"
      ]
     },
     "metadata": {
      "needs_background": "light"
     },
     "output_type": "display_data"
    }
   ],
   "source": [
    "\n",
    "\n",
    "NbPile=4.\n",
    "NbFace=6.\n",
    "\n",
    "\n",
    "PossibleValuesForP=np.linspace(0,1,100)\n",
    "\n",
    "CorrespondingLikelihood=((PossibleValuesForP)**NbPile)*((1-PossibleValuesForP)**NbFace)\n",
    "\n",
    "plt.plot(PossibleValuesForP,CorrespondingLikelihood)\n",
    "plt.show()\n",
    "\n"
   ]
  },
  {
   "cell_type": "markdown",
   "metadata": {},
   "source": [
    "On peut prendre le max sur cette grille (methode grid search), ou bien on peut faire une descente de gradient comme dans la partie 3"
   ]
  },
  {
   "cell_type": "code",
   "execution_count": 27,
   "metadata": {},
   "outputs": [
    {
     "data": {
      "image/png": "[encoded data removed]",
      "text/plain": [
       "<Figure size 432x288 with 1 Axes>"
      ]
     },
     "metadata": {
      "needs_background": "light"
     },
     "output_type": "display_data"
    }
   ],
   "source": [
    "NbPile=47.\n",
    "NbFace=53.\n",
    "\n",
    "CorrespondingLikelihood=((PossibleValuesForP)**NbPile)*((1-PossibleValuesForP)**NbFace)\n",
    "\n",
    "plt.plot(PossibleValuesForP,CorrespondingLikelihood)\n",
    "plt.show()\n",
    "\n"
   ]
  },
  {
   "cell_type": "markdown",
   "metadata": {},
   "source": [
    "On se rapproche peu a peu de p=0.5. Attention aux erreurs numériques quand le nombre de tirages devient trop grand. On utilisera plutot la log-vraisemblance dans ce cas.\n"
   ]
  },
  {
   "cell_type": "code",
   "execution_count": 29,
   "metadata": {},
   "outputs": [
    {
     "data": {
      "image/png": "[encoded data removed]",
      "text/plain": [
       "<Figure size 432x288 with 1 Axes>"
      ]
     },
     "metadata": {
      "needs_background": "light"
     },
     "output_type": "display_data"
    }
   ],
   "source": [
    "NbPile=1005.\n",
    "NbFace=995.\n",
    "\n",
    "PossibleValuesForP=np.linspace(0,1,100)\n",
    "\n",
    "CorrespondingLikelihood=((PossibleValuesForP)**NbPile)*((1-PossibleValuesForP)**NbFace)\n",
    "\n",
    "plt.plot(PossibleValuesForP,CorrespondingLikelihood)  \n",
    "plt.show()\n"
   ]
  },
  {
   "cell_type": "markdown",
   "metadata": {},
   "source": [
    "On ne voit rien -> problemes numériques"
   ]
  },
  {
   "cell_type": "code",
   "execution_count": 30,
   "metadata": {},
   "outputs": [
    {
     "data": {
      "image/png": "[encoded data removed]",
      "text/plain": [
       "<Figure size 432x288 with 1 Axes>"
      ]
     },
     "metadata": {
      "needs_background": "light"
     },
     "output_type": "display_data"
    }
   ],
   "source": [
    "\n",
    "\n",
    "\n",
    "PossibleValuesForP=np.linspace(0.01,0.99,100)\n",
    "\n",
    "CorrespondingLogLikelihood=NbPile*np.log(PossibleValuesForP)  +     NbFace*np.log(1-PossibleValuesForP)\n",
    "\n",
    "plt.plot(PossibleValuesForP,CorrespondingLogLikelihood)  \n",
    "plt.show()\n"
   ]
  },
  {
   "cell_type": "markdown",
   "metadata": {},
   "source": [
    "Ca marche maintenant !\n"
   ]
  },
  {
   "cell_type": "code",
   "execution_count": null,
   "metadata": {},
   "outputs": [],
   "source": []
  }
 ],
 "metadata": {
  "anaconda-cloud": {},
  "kernelspec": {
   "display_name": "Python 3",
   "language": "python",
   "name": "python3"
  },
  "language_info": {
   "codemirror_mode": {
    "name": "ipython",
    "version": 3
   },
   "file_extension": ".py",
   "mimetype": "text/x-python",
   "name": "python",
   "nbconvert_exporter": "python",
   "pygments_lexer": "ipython3",
   "version": "3.7.6"
  }
 },
 "nbformat": 4,
 "nbformat_minor": 4
}
