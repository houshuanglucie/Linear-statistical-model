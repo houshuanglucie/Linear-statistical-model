{
 "cells": [
  {
   "cell_type": "markdown",
   "metadata": {},
   "source": [
    "# EXERCICE 3 : REGRESSION LINEAIRE MULTIPLE AVEC REGULARISATION + VALIDATION CROISEE\n",
    "\n",
    "\n",
    "Inspire de http://scikit-learn.org/stable/auto_examples/linear_model/plot_lasso_and_elasticnet.html\n"
   ]
  },
  {
   "cell_type": "code",
   "execution_count": 1,
   "metadata": {},
   "outputs": [],
   "source": [
    "\n",
    "import numpy as np\n",
    "import matplotlib.pyplot as plt\n",
    "\n",
    "from sklearn.metrics import mean_squared_error\n"
   ]
  },
  {
   "cell_type": "markdown",
   "metadata": {},
   "source": [
    "##### generation de donnee synthetiques..."
   ]
  },
  {
   "cell_type": "code",
   "execution_count": 12,
   "metadata": {},
   "outputs": [],
   "source": [
    "\n",
    "np.random.seed(31)\n",
    "\n",
    "#... definition de n et p\n",
    "n = 75\n",
    "p =  200   #remarque : n<200 => necessite de selectionner des variables\n",
    "\n",
    "#... simulation de X\n",
    "X = np.random.randn(n, p) #remarque : on ne tient pas en compte les $beta_0$\n",
    "\n",
    "#... generation du vecteur beta dans lequel seules 10 valeurs sont non-nulles\n",
    "beta = 3 * np.random.randn(p)\n",
    "inds = np.arange(p)\n",
    "np.random.shuffle(inds)\n",
    "beta[inds[10:]] = 0 \n",
    "\n",
    "#... simulation de y \n",
    "y = np.dot(X, beta) + (0.01 * np.random.normal(size=n))\n",
    "\n",
    "\n",
    "# REMARQUE IMPORTANTE : y ne dépend que des variables i pour lesquelles beta[i] est non-nul\n",
    "\n",
    "\n",
    "# ... coupe en deux les donnees en donnees d'apprentissage et donnes test\n",
    "thresh=n // 2\n",
    "X_train = X[thresh:]\n",
    "y_train = y[thresh:]\n",
    "X_test = X[:thresh]\n",
    "y_test = y[:thresh]\n"
   ]
  },
  {
   "cell_type": "markdown",
   "metadata": {},
   "source": [
    "##### regression lineaire avec regularisation Lasso ...\n"
   ]
  },
  {
   "cell_type": "code",
   "execution_count": 13,
   "metadata": {},
   "outputs": [],
   "source": [
    "#... regression\n",
    "from sklearn.linear_model import Lasso\n",
    "\n",
    "alpha = 0.5\n",
    "lasso_regressor = Lasso(alpha=alpha)\n",
    "lasso_regressor.fit(X_train, y_train)\n",
    "\n",
    "y_pred_lasso = lasso_regressor.predict(X_test)\n",
    "mse_score_lasso = mean_squared_error(y_test, y_pred_lasso)\n"
   ]
  },
  {
   "cell_type": "markdown",
   "metadata": {},
   "source": [
    "#####  representation du resultat\n"
   ]
  },
  {
   "cell_type": "code",
   "execution_count": 14,
   "metadata": {},
   "outputs": [
    {
     "data": {
      "image/png": "[encoded data removed]",
      "text/plain": [
       "<Figure size 432x288 with 1 Axes>"
      ]
     },
     "metadata": {
      "needs_background": "light"
     },
     "output_type": "display_data"
    }
   ],
   "source": [
    "fig = plt.figure()\n",
    "plt.plot(y_test, y_pred_lasso, 'r.')\n",
    "plt.xlabel('True value')\n",
    "plt.ylabel('Predicted value')\n",
    "plt.title('True vs predicted value (mse='+str(mse_score_lasso)+')')\n",
    "plt.show()\n",
    "\n"
   ]
  },
  {
   "cell_type": "code",
   "execution_count": 15,
   "metadata": {},
   "outputs": [
    {
     "data": {
      "image/png": "[encoded data removed]",
      "text/plain": [
       "<Figure size 432x288 with 1 Axes>"
      ]
     },
     "metadata": {
      "needs_background": "light"
     },
     "output_type": "display_data"
    }
   ],
   "source": [
    "\n",
    "fig = plt.figure()\n",
    "plt.plot(lasso_regressor.coef_, 'r.')\n",
    "plt.plot(beta, 'b.')\n",
    "plt.legend(('Beta estime', 'Beta reel'), loc='lower right')\n",
    "plt.title('Coefficients de beta')\n",
    "plt.show()\n"
   ]
  },
  {
   "cell_type": "markdown",
   "metadata": {},
   "source": [
    "#### QUESTION 1 :\n",
    "\n",
    "Jouez l'exemple avec n=100, n=75, n=50, n=25. Qu'en deduisez vous sur l'impact du nombre d'observations\n",
    "\n",
    "#### Réponse :\n",
    "\n",
    "En dessous de 75 observations, on a du mal a avoir de bonnes predictions et estimer les bon beta. \n"
   ]
  },
  {
   "cell_type": "markdown",
   "metadata": {},
   "source": [
    "#### QUESTION 2:\n",
    "On garde n=75. Utiliser la validation croisee de type K-folds pour trouver le meilleur coefficient alpha au sens de R2.\n",
    "\n",
    "AIDE : Pour comprendre l'utilisation de K-folds sous sklearn vous pouvez jouer l'exemple ci-dessous\n"
   ]
  },
  {
   "cell_type": "code",
   "execution_count": 16,
   "metadata": {},
   "outputs": [
    {
     "name": "stdout",
     "output_type": "stream",
     "text": [
      "0.001  total:  44.5655134695861\n",
      "0.01  total:  0.019252884706103788\n",
      "0.1  total:  1.803834839203997\n",
      "1.0  total:  83.9616679390914\n",
      "10.0  total:  571.9274446602418\n"
     ]
    },
    {
     "name": "stderr",
     "output_type": "stream",
     "text": [
      "/anaconda3/lib/python3.7/site-packages/sklearn/linear_model/coordinate_descent.py:492: ConvergenceWarning: Objective did not converge. You might want to increase the number of iterations. Fitting data with very small alpha may cause precision problems.\n",
      "  ConvergenceWarning)\n",
      "/anaconda3/lib/python3.7/site-packages/sklearn/linear_model/coordinate_descent.py:492: ConvergenceWarning: Objective did not converge. You might want to increase the number of iterations. Fitting data with very small alpha may cause precision problems.\n",
      "  ConvergenceWarning)\n",
      "/anaconda3/lib/python3.7/site-packages/sklearn/linear_model/coordinate_descent.py:492: ConvergenceWarning: Objective did not converge. You might want to increase the number of iterations. Fitting data with very small alpha may cause precision problems.\n",
      "  ConvergenceWarning)\n",
      "/anaconda3/lib/python3.7/site-packages/sklearn/linear_model/coordinate_descent.py:492: ConvergenceWarning: Objective did not converge. You might want to increase the number of iterations. Fitting data with very small alpha may cause precision problems.\n",
      "  ConvergenceWarning)\n",
      "/anaconda3/lib/python3.7/site-packages/sklearn/linear_model/coordinate_descent.py:492: ConvergenceWarning: Objective did not converge. You might want to increase the number of iterations. Fitting data with very small alpha may cause precision problems.\n",
      "  ConvergenceWarning)\n",
      "/anaconda3/lib/python3.7/site-packages/sklearn/linear_model/coordinate_descent.py:492: ConvergenceWarning: Objective did not converge. You might want to increase the number of iterations. Fitting data with very small alpha may cause precision problems.\n",
      "  ConvergenceWarning)\n",
      "/anaconda3/lib/python3.7/site-packages/sklearn/linear_model/coordinate_descent.py:492: ConvergenceWarning: Objective did not converge. You might want to increase the number of iterations. Fitting data with very small alpha may cause precision problems.\n",
      "  ConvergenceWarning)\n",
      "/anaconda3/lib/python3.7/site-packages/sklearn/linear_model/coordinate_descent.py:492: ConvergenceWarning: Objective did not converge. You might want to increase the number of iterations. Fitting data with very small alpha may cause precision problems.\n",
      "  ConvergenceWarning)\n"
     ]
    }
   ],
   "source": [
    "\n",
    "from sklearn.model_selection import KFold\n",
    "\n",
    "#data = np.random.randn(12,3)\n",
    "#kf = KFold(n_splits=3)\n",
    "#\n",
    "#for train, test in kf.split(data):\n",
    "#  print(\"+++++++++++++++++++++++++++++++++++++++\")\n",
    "#  print('train='+str(train)+':')\n",
    "#  print(str(data[train,:]))\n",
    "#  print('test='+str(test)+':')\n",
    "#  print(str(data[test,:]))\n",
    "#  print(\"+++++++++++++++++++++++++++++++++++++++\")\n",
    "\n",
    "#-> 1ere passe : estimtion de l'echelle du alpha optimal\n",
    "\n",
    "kf = KFold(n_splits=8)\n",
    "for alpha in [0.001,0.01,0.1,1.,10.]:\n",
    "  sum_mse_scores=0.\n",
    "  for train, test in kf.split(X):\n",
    "    X_train=X[train]\n",
    "    y_train=y[train]\n",
    "    X_test=X[test]\n",
    "    y_test=y[test]\n",
    "  \n",
    "    lasso_regressor = Lasso(alpha=alpha)\n",
    "    lasso_regressor.fit(X_train, y_train)\n",
    "  \n",
    "    y_pred_lasso = lasso_regressor.predict(X_test)\n",
    "    mse_score_lasso = mean_squared_error(y_test, y_pred_lasso)\n",
    "    sum_mse_scores+=mse_score_lasso\n",
    "  print(alpha,\" total: \",sum_mse_scores)\n",
    "\n",
    "\n"
   ]
  },
  {
   "cell_type": "markdown",
   "metadata": {},
   "source": [
    "Meilleur score obtenu pour alpha=0.01\n"
   ]
  },
  {
   "cell_type": "code",
   "execution_count": 17,
   "metadata": {},
   "outputs": [
    {
     "name": "stdout",
     "output_type": "stream",
     "text": [
      "0.0025  total:  0.0034820925584265394\n",
      "0.005  total:  0.006159258108653941\n",
      "0.01  total:  0.019252884706103788\n",
      "0.02  total:  0.07323387003640719\n",
      "0.04  total:  0.28905511863523137\n",
      "0.08  total:  1.155084548900764\n"
     ]
    }
   ],
   "source": [
    "\n",
    "#-> 2eme passe : estimation plus fine du alpha optimal\n",
    "\n",
    "kf = KFold(n_splits=8)\n",
    "for alpha in [0.0025,0.005,0.01,0.02,0.04,0.08]:\n",
    "  sum_mse_scores=0.\n",
    "  for train, test in kf.split(X):\n",
    "    X_train=X[train]\n",
    "    y_train=y[train]\n",
    "    X_test=X[test]\n",
    "    y_test=y[test]\n",
    "  \n",
    "    lasso_regressor = Lasso(alpha=alpha)\n",
    "    lasso_regressor.fit(X_train, y_train)\n",
    "  \n",
    "    y_pred_lasso = lasso_regressor.predict(X_test)\n",
    "    mse_score_lasso = mean_squared_error(y_test, y_pred_lasso)\n",
    "    sum_mse_scores+=mse_score_lasso\n",
    "  print(alpha,\" total: \",sum_mse_scores)\n"
   ]
  },
  {
   "cell_type": "markdown",
   "metadata": {},
   "source": [
    "\n",
    "Meilleur score obtenu pour alpha=0.0025\n"
   ]
  },
  {
   "cell_type": "code",
   "execution_count": 18,
   "metadata": {},
   "outputs": [
    {
     "data": {
      "image/png": "[encoded data removed]",
      "text/plain": [
       "<Figure size 432x288 with 1 Axes>"
      ]
     },
     "metadata": {
      "needs_background": "light"
     },
     "output_type": "display_data"
    }
   ],
   "source": [
    "fig = plt.figure()\n",
    "plt.plot(lasso_regressor.coef_, 'r.')\n",
    "plt.plot(beta, 'b.')\n",
    "plt.legend(('Beta estime', 'Beta reel'), loc='lower right')\n",
    "plt.title('Coefficients de beta')\n",
    "plt.show()"
   ]
  },
  {
   "cell_type": "code",
   "execution_count": null,
   "metadata": {},
   "outputs": [],
   "source": []
  }
 ],
 "metadata": {
  "anaconda-cloud": {},
  "kernelspec": {
   "display_name": "Python 3",
   "language": "python",
   "name": "python3"
  },
  "language_info": {
   "codemirror_mode": {
    "name": "ipython",
    "version": 3
   },
   "file_extension": ".py",
   "mimetype": "text/x-python",
   "name": "python",
   "nbconvert_exporter": "python",
   "pygments_lexer": "ipython3",
   "version": "3.7.6"
  }
 },
 "nbformat": 4,
 "nbformat_minor": 4
}
